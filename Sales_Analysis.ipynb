{
 "cells": [
  {
   "cell_type": "markdown",
   "id": "bea8037e-ed68-40e7-8a79-eb989c9a845d",
   "metadata": {},
   "source": [
    "# Sales Analysis"
   ]
  },
  {
   "cell_type": "markdown",
   "id": "4c2bfc2f-78c6-40e3-bdce-bb6b9f83fcef",
   "metadata": {},
   "source": [
    "## 1) Data Wrangling "
   ]
  },
  {
   "cell_type": "code",
   "execution_count": 44,
   "id": "b74147c8-5aba-4e96-ae1d-3d8b698debf5",
   "metadata": {},
   "outputs": [],
   "source": [
    "#importing libraries\n",
    "import numpy as np\n",
    "import pandas as pd\n",
    "import matplotlib.pyplot as plt\n",
    "import seaborn as sns"
   ]
  },
  {
   "cell_type": "code",
   "execution_count": 45,
   "id": "27d86c15-5a8a-4a97-ad3b-91661da49305",
   "metadata": {},
   "outputs": [
    {
     "data": {
      "text/html": [
       "<div>\n",
       "<style scoped>\n",
       "    .dataframe tbody tr th:only-of-type {\n",
       "        vertical-align: middle;\n",
       "    }\n",
       "\n",
       "    .dataframe tbody tr th {\n",
       "        vertical-align: top;\n",
       "    }\n",
       "\n",
       "    .dataframe thead th {\n",
       "        text-align: right;\n",
       "    }\n",
       "</style>\n",
       "<table border=\"1\" class=\"dataframe\">\n",
       "  <thead>\n",
       "    <tr style=\"text-align: right;\">\n",
       "      <th></th>\n",
       "      <th>Date</th>\n",
       "      <th>Time</th>\n",
       "      <th>State</th>\n",
       "      <th>Group</th>\n",
       "      <th>Unit</th>\n",
       "      <th>Sales</th>\n",
       "    </tr>\n",
       "  </thead>\n",
       "  <tbody>\n",
       "    <tr>\n",
       "      <th>0</th>\n",
       "      <td>1-Oct-2020</td>\n",
       "      <td>Morning</td>\n",
       "      <td>WA</td>\n",
       "      <td>Kids</td>\n",
       "      <td>8</td>\n",
       "      <td>20000</td>\n",
       "    </tr>\n",
       "    <tr>\n",
       "      <th>1</th>\n",
       "      <td>1-Oct-2020</td>\n",
       "      <td>Morning</td>\n",
       "      <td>WA</td>\n",
       "      <td>Men</td>\n",
       "      <td>8</td>\n",
       "      <td>20000</td>\n",
       "    </tr>\n",
       "    <tr>\n",
       "      <th>2</th>\n",
       "      <td>1-Oct-2020</td>\n",
       "      <td>Morning</td>\n",
       "      <td>WA</td>\n",
       "      <td>Women</td>\n",
       "      <td>4</td>\n",
       "      <td>10000</td>\n",
       "    </tr>\n",
       "    <tr>\n",
       "      <th>3</th>\n",
       "      <td>1-Oct-2020</td>\n",
       "      <td>Morning</td>\n",
       "      <td>WA</td>\n",
       "      <td>Seniors</td>\n",
       "      <td>15</td>\n",
       "      <td>37500</td>\n",
       "    </tr>\n",
       "    <tr>\n",
       "      <th>4</th>\n",
       "      <td>1-Oct-2020</td>\n",
       "      <td>Afternoon</td>\n",
       "      <td>WA</td>\n",
       "      <td>Kids</td>\n",
       "      <td>3</td>\n",
       "      <td>7500</td>\n",
       "    </tr>\n",
       "  </tbody>\n",
       "</table>\n",
       "</div>"
      ],
      "text/plain": [
       "         Date        Time State     Group  Unit  Sales\n",
       "0  1-Oct-2020     Morning    WA      Kids     8  20000\n",
       "1  1-Oct-2020     Morning    WA       Men     8  20000\n",
       "2  1-Oct-2020     Morning    WA     Women     4  10000\n",
       "3  1-Oct-2020     Morning    WA   Seniors    15  37500\n",
       "4  1-Oct-2020   Afternoon    WA      Kids     3   7500"
      ]
     },
     "execution_count": 45,
     "metadata": {},
     "output_type": "execute_result"
    }
   ],
   "source": [
    "data=pd.read_csv('AusApparalSales4thQrt2020.csv')\n",
    "data.head()"
   ]
  },
  {
   "cell_type": "code",
   "execution_count": 46,
   "id": "c4f71740-814c-4b46-8769-a3b8960cf6b3",
   "metadata": {},
   "outputs": [
    {
     "data": {
      "text/plain": [
       "(7560, 6)"
      ]
     },
     "execution_count": 46,
     "metadata": {},
     "output_type": "execute_result"
    }
   ],
   "source": [
    "data.shape"
   ]
  },
  {
   "cell_type": "code",
   "execution_count": 47,
   "id": "c6325dc0-2711-49fa-b12e-dc5ff63f6ca0",
   "metadata": {},
   "outputs": [
    {
     "name": "stdout",
     "output_type": "stream",
     "text": [
      "<class 'pandas.core.frame.DataFrame'>\n",
      "RangeIndex: 7560 entries, 0 to 7559\n",
      "Data columns (total 6 columns):\n",
      " #   Column  Non-Null Count  Dtype \n",
      "---  ------  --------------  ----- \n",
      " 0   Date    7560 non-null   object\n",
      " 1   Time    7560 non-null   object\n",
      " 2   State   7560 non-null   object\n",
      " 3   Group   7560 non-null   object\n",
      " 4   Unit    7560 non-null   int64 \n",
      " 5   Sales   7560 non-null   int64 \n",
      "dtypes: int64(2), object(4)\n",
      "memory usage: 354.5+ KB\n"
     ]
    }
   ],
   "source": [
    "data.info()"
   ]
  },
  {
   "cell_type": "code",
   "execution_count": 48,
   "id": "552ff89b-2b88-4a7a-a0b4-fd6e34b261a6",
   "metadata": {},
   "outputs": [
    {
     "data": {
      "text/html": [
       "<div>\n",
       "<style scoped>\n",
       "    .dataframe tbody tr th:only-of-type {\n",
       "        vertical-align: middle;\n",
       "    }\n",
       "\n",
       "    .dataframe tbody tr th {\n",
       "        vertical-align: top;\n",
       "    }\n",
       "\n",
       "    .dataframe thead th {\n",
       "        text-align: right;\n",
       "    }\n",
       "</style>\n",
       "<table border=\"1\" class=\"dataframe\">\n",
       "  <thead>\n",
       "    <tr style=\"text-align: right;\">\n",
       "      <th></th>\n",
       "      <th>Unit</th>\n",
       "      <th>Sales</th>\n",
       "    </tr>\n",
       "  </thead>\n",
       "  <tbody>\n",
       "    <tr>\n",
       "      <th>count</th>\n",
       "      <td>7560.000000</td>\n",
       "      <td>7560.000000</td>\n",
       "    </tr>\n",
       "    <tr>\n",
       "      <th>mean</th>\n",
       "      <td>18.005423</td>\n",
       "      <td>45013.558201</td>\n",
       "    </tr>\n",
       "    <tr>\n",
       "      <th>std</th>\n",
       "      <td>12.901403</td>\n",
       "      <td>32253.506944</td>\n",
       "    </tr>\n",
       "    <tr>\n",
       "      <th>min</th>\n",
       "      <td>2.000000</td>\n",
       "      <td>5000.000000</td>\n",
       "    </tr>\n",
       "    <tr>\n",
       "      <th>25%</th>\n",
       "      <td>8.000000</td>\n",
       "      <td>20000.000000</td>\n",
       "    </tr>\n",
       "    <tr>\n",
       "      <th>50%</th>\n",
       "      <td>14.000000</td>\n",
       "      <td>35000.000000</td>\n",
       "    </tr>\n",
       "    <tr>\n",
       "      <th>75%</th>\n",
       "      <td>26.000000</td>\n",
       "      <td>65000.000000</td>\n",
       "    </tr>\n",
       "    <tr>\n",
       "      <th>max</th>\n",
       "      <td>65.000000</td>\n",
       "      <td>162500.000000</td>\n",
       "    </tr>\n",
       "  </tbody>\n",
       "</table>\n",
       "</div>"
      ],
      "text/plain": [
       "              Unit          Sales\n",
       "count  7560.000000    7560.000000\n",
       "mean     18.005423   45013.558201\n",
       "std      12.901403   32253.506944\n",
       "min       2.000000    5000.000000\n",
       "25%       8.000000   20000.000000\n",
       "50%      14.000000   35000.000000\n",
       "75%      26.000000   65000.000000\n",
       "max      65.000000  162500.000000"
      ]
     },
     "execution_count": 48,
     "metadata": {},
     "output_type": "execute_result"
    }
   ],
   "source": [
    "data.describe()"
   ]
  },
  {
   "cell_type": "code",
   "execution_count": 49,
   "id": "dda0f75c-e3e3-4889-b877-f6818d61e93f",
   "metadata": {},
   "outputs": [
    {
     "data": {
      "text/plain": [
       "Date     0\n",
       "Time     0\n",
       "State    0\n",
       "Group    0\n",
       "Unit     0\n",
       "Sales    0\n",
       "dtype: int64"
      ]
     },
     "execution_count": 49,
     "metadata": {},
     "output_type": "execute_result"
    }
   ],
   "source": [
    "data.isna().sum()"
   ]
  },
  {
   "cell_type": "markdown",
   "id": "af8522de-7eba-4b5f-a0ad-8844a515f368",
   "metadata": {},
   "source": [
    "##### There are no missing values in the data"
   ]
  },
  {
   "cell_type": "code",
   "execution_count": 50,
   "id": "f41d83ec-0fde-4369-bbbb-590f9a8480bd",
   "metadata": {},
   "outputs": [
    {
     "data": {
      "text/plain": [
       "array([' Morning', ' Afternoon', ' Evening'], dtype=object)"
      ]
     },
     "execution_count": 50,
     "metadata": {},
     "output_type": "execute_result"
    }
   ],
   "source": [
    "#checking for the unique values\n",
    "data['Time'].unique()"
   ]
  },
  {
   "cell_type": "code",
   "execution_count": 51,
   "id": "fb15e6aa-acb8-4f66-b66f-675bf8dac229",
   "metadata": {},
   "outputs": [
    {
     "data": {
      "text/plain": [
       "array([' WA', ' NT', ' SA', ' VIC', ' QLD', ' NSW', ' TAS'], dtype=object)"
      ]
     },
     "execution_count": 51,
     "metadata": {},
     "output_type": "execute_result"
    }
   ],
   "source": [
    "data['State'].unique()"
   ]
  },
  {
   "cell_type": "code",
   "execution_count": 52,
   "id": "09a421b8-25eb-4260-90ec-2899b2908e1e",
   "metadata": {},
   "outputs": [
    {
     "data": {
      "text/plain": [
       "array([' Kids', ' Men', ' Women', ' Seniors'], dtype=object)"
      ]
     },
     "execution_count": 52,
     "metadata": {},
     "output_type": "execute_result"
    }
   ],
   "source": [
    "data['Group'].unique()"
   ]
  },
  {
   "cell_type": "markdown",
   "id": "069b16ff-a6d2-418b-adf7-da2eabbd4e1c",
   "metadata": {},
   "source": [
    "## 2. Data Analysis\n"
   ]
  },
  {
   "cell_type": "markdown",
   "id": "6a50148e-f2d0-4b39-ac52-3801f6ad18da",
   "metadata": {},
   "source": [
    "#### a. Standardizing the data (Since standardization maintains zero mean and unit variance, it was preferred over normalization for this dataset.)"
   ]
  },
  {
   "cell_type": "code",
   "execution_count": 53,
   "id": "ad5cd9bd-9856-4315-9b7f-fc623b078139",
   "metadata": {},
   "outputs": [],
   "source": [
    "df=data.copy()"
   ]
  },
  {
   "cell_type": "code",
   "execution_count": 54,
   "id": "5d1024b4-2201-449f-8747-25d4cc1f44f4",
   "metadata": {},
   "outputs": [],
   "source": [
    "df['Sales']=(df['Sales']-df['Sales'].mean())/df['Sales'].std()\n",
    "df['Unit']=(df['Unit']-df['Unit'].mean())/df['Unit'].std()"
   ]
  },
  {
   "cell_type": "code",
   "execution_count": 55,
   "id": "7dd985c3-d443-4b34-abad-54b8e66f58d3",
   "metadata": {},
   "outputs": [
    {
     "data": {
      "text/html": [
       "<div>\n",
       "<style scoped>\n",
       "    .dataframe tbody tr th:only-of-type {\n",
       "        vertical-align: middle;\n",
       "    }\n",
       "\n",
       "    .dataframe tbody tr th {\n",
       "        vertical-align: top;\n",
       "    }\n",
       "\n",
       "    .dataframe thead th {\n",
       "        text-align: right;\n",
       "    }\n",
       "</style>\n",
       "<table border=\"1\" class=\"dataframe\">\n",
       "  <thead>\n",
       "    <tr style=\"text-align: right;\">\n",
       "      <th></th>\n",
       "      <th>Date</th>\n",
       "      <th>Time</th>\n",
       "      <th>State</th>\n",
       "      <th>Group</th>\n",
       "      <th>Unit</th>\n",
       "      <th>Sales</th>\n",
       "    </tr>\n",
       "  </thead>\n",
       "  <tbody>\n",
       "    <tr>\n",
       "      <th>0</th>\n",
       "      <td>1-Oct-2020</td>\n",
       "      <td>Morning</td>\n",
       "      <td>WA</td>\n",
       "      <td>Kids</td>\n",
       "      <td>-0.775530</td>\n",
       "      <td>-0.775530</td>\n",
       "    </tr>\n",
       "    <tr>\n",
       "      <th>1</th>\n",
       "      <td>1-Oct-2020</td>\n",
       "      <td>Morning</td>\n",
       "      <td>WA</td>\n",
       "      <td>Men</td>\n",
       "      <td>-0.775530</td>\n",
       "      <td>-0.775530</td>\n",
       "    </tr>\n",
       "    <tr>\n",
       "      <th>2</th>\n",
       "      <td>1-Oct-2020</td>\n",
       "      <td>Morning</td>\n",
       "      <td>WA</td>\n",
       "      <td>Women</td>\n",
       "      <td>-1.085574</td>\n",
       "      <td>-1.085574</td>\n",
       "    </tr>\n",
       "    <tr>\n",
       "      <th>3</th>\n",
       "      <td>1-Oct-2020</td>\n",
       "      <td>Morning</td>\n",
       "      <td>WA</td>\n",
       "      <td>Seniors</td>\n",
       "      <td>-0.232953</td>\n",
       "      <td>-0.232953</td>\n",
       "    </tr>\n",
       "    <tr>\n",
       "      <th>4</th>\n",
       "      <td>1-Oct-2020</td>\n",
       "      <td>Afternoon</td>\n",
       "      <td>WA</td>\n",
       "      <td>Kids</td>\n",
       "      <td>-1.163085</td>\n",
       "      <td>-1.163085</td>\n",
       "    </tr>\n",
       "    <tr>\n",
       "      <th>...</th>\n",
       "      <td>...</td>\n",
       "      <td>...</td>\n",
       "      <td>...</td>\n",
       "      <td>...</td>\n",
       "      <td>...</td>\n",
       "      <td>...</td>\n",
       "    </tr>\n",
       "    <tr>\n",
       "      <th>7555</th>\n",
       "      <td>30-Dec-2020</td>\n",
       "      <td>Afternoon</td>\n",
       "      <td>TAS</td>\n",
       "      <td>Seniors</td>\n",
       "      <td>-0.310464</td>\n",
       "      <td>-0.310464</td>\n",
       "    </tr>\n",
       "    <tr>\n",
       "      <th>7556</th>\n",
       "      <td>30-Dec-2020</td>\n",
       "      <td>Evening</td>\n",
       "      <td>TAS</td>\n",
       "      <td>Kids</td>\n",
       "      <td>-0.232953</td>\n",
       "      <td>-0.232953</td>\n",
       "    </tr>\n",
       "    <tr>\n",
       "      <th>7557</th>\n",
       "      <td>30-Dec-2020</td>\n",
       "      <td>Evening</td>\n",
       "      <td>TAS</td>\n",
       "      <td>Men</td>\n",
       "      <td>-0.232953</td>\n",
       "      <td>-0.232953</td>\n",
       "    </tr>\n",
       "    <tr>\n",
       "      <th>7558</th>\n",
       "      <td>30-Dec-2020</td>\n",
       "      <td>Evening</td>\n",
       "      <td>TAS</td>\n",
       "      <td>Women</td>\n",
       "      <td>-0.542997</td>\n",
       "      <td>-0.542997</td>\n",
       "    </tr>\n",
       "    <tr>\n",
       "      <th>7559</th>\n",
       "      <td>30-Dec-2020</td>\n",
       "      <td>Evening</td>\n",
       "      <td>TAS</td>\n",
       "      <td>Seniors</td>\n",
       "      <td>-0.387975</td>\n",
       "      <td>-0.387975</td>\n",
       "    </tr>\n",
       "  </tbody>\n",
       "</table>\n",
       "<p>7560 rows × 6 columns</p>\n",
       "</div>"
      ],
      "text/plain": [
       "             Date        Time State     Group      Unit     Sales\n",
       "0      1-Oct-2020     Morning    WA      Kids -0.775530 -0.775530\n",
       "1      1-Oct-2020     Morning    WA       Men -0.775530 -0.775530\n",
       "2      1-Oct-2020     Morning    WA     Women -1.085574 -1.085574\n",
       "3      1-Oct-2020     Morning    WA   Seniors -0.232953 -0.232953\n",
       "4      1-Oct-2020   Afternoon    WA      Kids -1.163085 -1.163085\n",
       "...           ...         ...   ...       ...       ...       ...\n",
       "7555  30-Dec-2020   Afternoon   TAS   Seniors -0.310464 -0.310464\n",
       "7556  30-Dec-2020     Evening   TAS      Kids -0.232953 -0.232953\n",
       "7557  30-Dec-2020     Evening   TAS       Men -0.232953 -0.232953\n",
       "7558  30-Dec-2020     Evening   TAS     Women -0.542997 -0.542997\n",
       "7559  30-Dec-2020     Evening   TAS   Seniors -0.387975 -0.387975\n",
       "\n",
       "[7560 rows x 6 columns]"
      ]
     },
     "execution_count": 55,
     "metadata": {},
     "output_type": "execute_result"
    }
   ],
   "source": [
    "df"
   ]
  },
  {
   "cell_type": "markdown",
   "id": "a6cac9ed-09a4-416b-9cf1-a2ee31c12183",
   "metadata": {},
   "source": [
    "#### Descriptive Statistics (Mean, Median, Mode, Standard deviation) of the data"
   ]
  },
  {
   "cell_type": "code",
   "execution_count": 56,
   "id": "85805e1b-626b-49fe-ab2b-c50f757ccd2b",
   "metadata": {},
   "outputs": [
    {
     "name": "stdout",
     "output_type": "stream",
     "text": [
      "Mean Sales: 3.007588299513652e-17\n",
      "Median Sales: -0.3104641680811532\n",
      "Mode Sales: -0.6980189236528843\n",
      "Standard Deviation of Sales: 1.0000000000000064\n"
     ]
    }
   ],
   "source": [
    "mean_sales = df['Sales'].mean()\n",
    "median_sales = df['Sales'].median()\n",
    "mode_sales = df['Sales'].mode()[0]\n",
    "std_sales = df['Sales'].std()\n",
    "\n",
    "print(f\"Mean Sales: {mean_sales}\")\n",
    "print(f\"Median Sales: {median_sales}\")\n",
    "print(f\"Mode Sales: {mode_sales}\")\n",
    "print(f\"Standard Deviation of Sales: {std_sales}\")\n"
   ]
  },
  {
   "cell_type": "markdown",
   "id": "3f72e640-1cd4-4922-9c34-448cf7aee9ff",
   "metadata": {},
   "source": [
    "#### Identifying the group with highest and lowest sales based on the data"
   ]
  },
  {
   "cell_type": "code",
   "execution_count": 57,
   "id": "1f7feef5-b222-4397-a1fc-0a8724c14378",
   "metadata": {},
   "outputs": [
    {
     "data": {
      "text/html": [
       "<div>\n",
       "<style scoped>\n",
       "    .dataframe tbody tr th:only-of-type {\n",
       "        vertical-align: middle;\n",
       "    }\n",
       "\n",
       "    .dataframe tbody tr th {\n",
       "        vertical-align: top;\n",
       "    }\n",
       "\n",
       "    .dataframe thead th {\n",
       "        text-align: right;\n",
       "    }\n",
       "</style>\n",
       "<table border=\"1\" class=\"dataframe\">\n",
       "  <thead>\n",
       "    <tr style=\"text-align: right;\">\n",
       "      <th></th>\n",
       "      <th></th>\n",
       "      <th>Unit</th>\n",
       "      <th>Sales</th>\n",
       "    </tr>\n",
       "    <tr>\n",
       "      <th>State</th>\n",
       "      <th>Group</th>\n",
       "      <th></th>\n",
       "      <th></th>\n",
       "    </tr>\n",
       "  </thead>\n",
       "  <tbody>\n",
       "    <tr>\n",
       "      <th rowspan=\"4\" valign=\"top\">NSW</th>\n",
       "      <th>Kids</th>\n",
       "      <td>7435</td>\n",
       "      <td>18587500</td>\n",
       "    </tr>\n",
       "    <tr>\n",
       "      <th>Men</th>\n",
       "      <td>7609</td>\n",
       "      <td>19022500</td>\n",
       "    </tr>\n",
       "    <tr>\n",
       "      <th>Seniors</th>\n",
       "      <td>7275</td>\n",
       "      <td>18187500</td>\n",
       "    </tr>\n",
       "    <tr>\n",
       "      <th>Women</th>\n",
       "      <td>7669</td>\n",
       "      <td>19172500</td>\n",
       "    </tr>\n",
       "    <tr>\n",
       "      <th rowspan=\"4\" valign=\"top\">NT</th>\n",
       "      <th>Kids</th>\n",
       "      <td>2280</td>\n",
       "      <td>5700000</td>\n",
       "    </tr>\n",
       "    <tr>\n",
       "      <th>Men</th>\n",
       "      <td>2305</td>\n",
       "      <td>5762500</td>\n",
       "    </tr>\n",
       "    <tr>\n",
       "      <th>Seniors</th>\n",
       "      <td>2186</td>\n",
       "      <td>5465000</td>\n",
       "    </tr>\n",
       "    <tr>\n",
       "      <th>Women</th>\n",
       "      <td>2261</td>\n",
       "      <td>5652500</td>\n",
       "    </tr>\n",
       "    <tr>\n",
       "      <th rowspan=\"4\" valign=\"top\">QLD</th>\n",
       "      <th>Kids</th>\n",
       "      <td>3404</td>\n",
       "      <td>8510000</td>\n",
       "    </tr>\n",
       "    <tr>\n",
       "      <th>Men</th>\n",
       "      <td>3357</td>\n",
       "      <td>8392500</td>\n",
       "    </tr>\n",
       "    <tr>\n",
       "      <th>Seniors</th>\n",
       "      <td>3276</td>\n",
       "      <td>8190000</td>\n",
       "    </tr>\n",
       "    <tr>\n",
       "      <th>Women</th>\n",
       "      <td>3330</td>\n",
       "      <td>8325000</td>\n",
       "    </tr>\n",
       "    <tr>\n",
       "      <th rowspan=\"4\" valign=\"top\">SA</th>\n",
       "      <th>Kids</th>\n",
       "      <td>5806</td>\n",
       "      <td>14515000</td>\n",
       "    </tr>\n",
       "    <tr>\n",
       "      <th>Men</th>\n",
       "      <td>5862</td>\n",
       "      <td>14655000</td>\n",
       "    </tr>\n",
       "    <tr>\n",
       "      <th>Seniors</th>\n",
       "      <td>5887</td>\n",
       "      <td>14717500</td>\n",
       "    </tr>\n",
       "    <tr>\n",
       "      <th>Women</th>\n",
       "      <td>5988</td>\n",
       "      <td>14970000</td>\n",
       "    </tr>\n",
       "    <tr>\n",
       "      <th rowspan=\"4\" valign=\"top\">TAS</th>\n",
       "      <th>Kids</th>\n",
       "      <td>2310</td>\n",
       "      <td>5775000</td>\n",
       "    </tr>\n",
       "    <tr>\n",
       "      <th>Men</th>\n",
       "      <td>2303</td>\n",
       "      <td>5757500</td>\n",
       "    </tr>\n",
       "    <tr>\n",
       "      <th>Seniors</th>\n",
       "      <td>2260</td>\n",
       "      <td>5650000</td>\n",
       "    </tr>\n",
       "    <tr>\n",
       "      <th>Women</th>\n",
       "      <td>2231</td>\n",
       "      <td>5577500</td>\n",
       "    </tr>\n",
       "    <tr>\n",
       "      <th rowspan=\"4\" valign=\"top\">VIC</th>\n",
       "      <th>Kids</th>\n",
       "      <td>10544</td>\n",
       "      <td>26360000</td>\n",
       "    </tr>\n",
       "    <tr>\n",
       "      <th>Men</th>\n",
       "      <td>10563</td>\n",
       "      <td>26407500</td>\n",
       "    </tr>\n",
       "    <tr>\n",
       "      <th>Seniors</th>\n",
       "      <td>10526</td>\n",
       "      <td>26315000</td>\n",
       "    </tr>\n",
       "    <tr>\n",
       "      <th>Women</th>\n",
       "      <td>10593</td>\n",
       "      <td>26482500</td>\n",
       "    </tr>\n",
       "    <tr>\n",
       "      <th rowspan=\"4\" valign=\"top\">WA</th>\n",
       "      <th>Kids</th>\n",
       "      <td>2250</td>\n",
       "      <td>5625000</td>\n",
       "    </tr>\n",
       "    <tr>\n",
       "      <th>Men</th>\n",
       "      <td>2301</td>\n",
       "      <td>5752500</td>\n",
       "    </tr>\n",
       "    <tr>\n",
       "      <th>Seniors</th>\n",
       "      <td>2205</td>\n",
       "      <td>5512500</td>\n",
       "    </tr>\n",
       "    <tr>\n",
       "      <th>Women</th>\n",
       "      <td>2105</td>\n",
       "      <td>5262500</td>\n",
       "    </tr>\n",
       "  </tbody>\n",
       "</table>\n",
       "</div>"
      ],
      "text/plain": [
       "                Unit     Sales\n",
       "State Group                   \n",
       "NSW   Kids      7435  18587500\n",
       "      Men       7609  19022500\n",
       "      Seniors   7275  18187500\n",
       "      Women     7669  19172500\n",
       "NT    Kids      2280   5700000\n",
       "      Men       2305   5762500\n",
       "      Seniors   2186   5465000\n",
       "      Women     2261   5652500\n",
       "QLD   Kids      3404   8510000\n",
       "      Men       3357   8392500\n",
       "      Seniors   3276   8190000\n",
       "      Women     3330   8325000\n",
       "SA    Kids      5806  14515000\n",
       "      Men       5862  14655000\n",
       "      Seniors   5887  14717500\n",
       "      Women     5988  14970000\n",
       "TAS   Kids      2310   5775000\n",
       "      Men       2303   5757500\n",
       "      Seniors   2260   5650000\n",
       "      Women     2231   5577500\n",
       "VIC   Kids     10544  26360000\n",
       "      Men      10563  26407500\n",
       "      Seniors  10526  26315000\n",
       "      Women    10593  26482500\n",
       "WA    Kids      2250   5625000\n",
       "      Men       2301   5752500\n",
       "      Seniors   2205   5512500\n",
       "      Women     2105   5262500"
      ]
     },
     "execution_count": 57,
     "metadata": {},
     "output_type": "execute_result"
    }
   ],
   "source": [
    "data.groupby(['State','Group']).sum('Sales')"
   ]
  },
  {
   "cell_type": "code",
   "execution_count": 58,
   "id": "f4ecb3a5-7d6b-4148-87f1-09fd01ec6d9a",
   "metadata": {},
   "outputs": [
    {
     "data": {
      "text/html": [
       "<div>\n",
       "<style scoped>\n",
       "    .dataframe tbody tr th:only-of-type {\n",
       "        vertical-align: middle;\n",
       "    }\n",
       "\n",
       "    .dataframe tbody tr th {\n",
       "        vertical-align: top;\n",
       "    }\n",
       "\n",
       "    .dataframe thead th {\n",
       "        text-align: right;\n",
       "    }\n",
       "</style>\n",
       "<table border=\"1\" class=\"dataframe\">\n",
       "  <thead>\n",
       "    <tr style=\"text-align: right;\">\n",
       "      <th></th>\n",
       "      <th>Unit</th>\n",
       "      <th>Sales</th>\n",
       "    </tr>\n",
       "    <tr>\n",
       "      <th>State</th>\n",
       "      <th></th>\n",
       "      <th></th>\n",
       "    </tr>\n",
       "  </thead>\n",
       "  <tbody>\n",
       "    <tr>\n",
       "      <th>NSW</th>\n",
       "      <td>29988</td>\n",
       "      <td>74970000</td>\n",
       "    </tr>\n",
       "    <tr>\n",
       "      <th>NT</th>\n",
       "      <td>9032</td>\n",
       "      <td>22580000</td>\n",
       "    </tr>\n",
       "    <tr>\n",
       "      <th>QLD</th>\n",
       "      <td>13367</td>\n",
       "      <td>33417500</td>\n",
       "    </tr>\n",
       "    <tr>\n",
       "      <th>SA</th>\n",
       "      <td>23543</td>\n",
       "      <td>58857500</td>\n",
       "    </tr>\n",
       "    <tr>\n",
       "      <th>TAS</th>\n",
       "      <td>9104</td>\n",
       "      <td>22760000</td>\n",
       "    </tr>\n",
       "    <tr>\n",
       "      <th>VIC</th>\n",
       "      <td>42226</td>\n",
       "      <td>105565000</td>\n",
       "    </tr>\n",
       "    <tr>\n",
       "      <th>WA</th>\n",
       "      <td>8861</td>\n",
       "      <td>22152500</td>\n",
       "    </tr>\n",
       "  </tbody>\n",
       "</table>\n",
       "</div>"
      ],
      "text/plain": [
       "        Unit      Sales\n",
       "State                  \n",
       "NSW    29988   74970000\n",
       "NT      9032   22580000\n",
       "QLD    13367   33417500\n",
       "SA     23543   58857500\n",
       "TAS     9104   22760000\n",
       "VIC    42226  105565000\n",
       "WA      8861   22152500"
      ]
     },
     "execution_count": 58,
     "metadata": {},
     "output_type": "execute_result"
    }
   ],
   "source": [
    "data.groupby(['State']).sum('Sales')"
   ]
  },
  {
   "cell_type": "code",
   "execution_count": 59,
   "id": "b564296b-2d15-4d47-ad25-8d21076b432e",
   "metadata": {},
   "outputs": [],
   "source": [
    "#highest and lowest sales State\n",
    "highest_sales_state=data.groupby(['State']).sum('Sales').idxmax()\n",
    "lowest_sales_state=data.groupby(['State']).sum('Sales').idxmin()"
   ]
  },
  {
   "cell_type": "code",
   "execution_count": 60,
   "id": "55c73a66-507a-4424-9657-e732cc91fa61",
   "metadata": {},
   "outputs": [
    {
     "data": {
      "text/plain": [
       "Unit      VIC\n",
       "Sales     VIC\n",
       "dtype: object"
      ]
     },
     "execution_count": 60,
     "metadata": {},
     "output_type": "execute_result"
    }
   ],
   "source": [
    "highest_sales_state"
   ]
  },
  {
   "cell_type": "code",
   "execution_count": 61,
   "id": "fc881d56-dc5a-43dd-9693-6e443dcc795a",
   "metadata": {},
   "outputs": [
    {
     "data": {
      "text/plain": [
       "Unit      WA\n",
       "Sales     WA\n",
       "dtype: object"
      ]
     },
     "execution_count": 61,
     "metadata": {},
     "output_type": "execute_result"
    }
   ],
   "source": [
    "lowest_sales_state"
   ]
  },
  {
   "cell_type": "code",
   "execution_count": 62,
   "id": "387939a2-0c56-4d5e-b296-50950dce0aa9",
   "metadata": {},
   "outputs": [],
   "source": [
    "#highest and lowest sales group\n",
    "highest_sales_group=data.groupby(['Group']).sum('Sales').idxmax()\n",
    "lowest_sales_group=data.groupby(['Group']).sum('Sales').idxmin()"
   ]
  },
  {
   "cell_type": "code",
   "execution_count": 63,
   "id": "2525d250-105d-4425-9c81-fabaf4262244",
   "metadata": {},
   "outputs": [
    {
     "data": {
      "text/plain": [
       "Unit      Men\n",
       "Sales     Men\n",
       "dtype: object"
      ]
     },
     "execution_count": 63,
     "metadata": {},
     "output_type": "execute_result"
    }
   ],
   "source": [
    "highest_sales_group"
   ]
  },
  {
   "cell_type": "code",
   "execution_count": 64,
   "id": "a6011238-0cdb-4e8f-af0a-9571d76ae21e",
   "metadata": {},
   "outputs": [
    {
     "data": {
      "text/plain": [
       "Unit      Seniors\n",
       "Sales     Seniors\n",
       "dtype: object"
      ]
     },
     "execution_count": 64,
     "metadata": {},
     "output_type": "execute_result"
    }
   ],
   "source": [
    "lowest_sales_group"
   ]
  },
  {
   "cell_type": "code",
   "execution_count": 65,
   "id": "51a07c46-d22c-4431-ad1f-ae36c44b21bc",
   "metadata": {},
   "outputs": [
    {
     "data": {
      "text/plain": [
       "Date     object\n",
       "Time     object\n",
       "State    object\n",
       "Group    object\n",
       "Unit      int64\n",
       "Sales     int64\n",
       "dtype: object"
      ]
     },
     "execution_count": 65,
     "metadata": {},
     "output_type": "execute_result"
    }
   ],
   "source": [
    "data.dtypes"
   ]
  },
  {
   "cell_type": "code",
   "execution_count": 66,
   "id": "986a4a2c-9dbe-47e6-919c-66339ec7a52a",
   "metadata": {},
   "outputs": [],
   "source": [
    "data['Date']=pd.to_datetime(data['Date'])"
   ]
  },
  {
   "cell_type": "code",
   "execution_count": 67,
   "id": "8988edee-7cb4-44d0-bea5-acbe32b67ca7",
   "metadata": {},
   "outputs": [
    {
     "data": {
      "text/plain": [
       "Date     datetime64[ns]\n",
       "Time             object\n",
       "State            object\n",
       "Group            object\n",
       "Unit              int64\n",
       "Sales             int64\n",
       "dtype: object"
      ]
     },
     "execution_count": 67,
     "metadata": {},
     "output_type": "execute_result"
    }
   ],
   "source": [
    "data.dtypes"
   ]
  },
  {
   "cell_type": "code",
   "execution_count": 68,
   "id": "631f8561-bee1-4c76-96e5-04c69904fe3f",
   "metadata": {},
   "outputs": [
    {
     "data": {
      "text/plain": [
       "0      2020-10-01\n",
       "1      2020-10-01\n",
       "2      2020-10-01\n",
       "3      2020-10-01\n",
       "4      2020-10-01\n",
       "          ...    \n",
       "7555   2020-12-30\n",
       "7556   2020-12-30\n",
       "7557   2020-12-30\n",
       "7558   2020-12-30\n",
       "7559   2020-12-30\n",
       "Name: Date, Length: 7560, dtype: datetime64[ns]"
      ]
     },
     "execution_count": 68,
     "metadata": {},
     "output_type": "execute_result"
    }
   ],
   "source": [
    "data['Date']"
   ]
  },
  {
   "cell_type": "code",
   "execution_count": 69,
   "id": "5b87afa5-e0bb-4bdb-b65d-7fd1e230f97a",
   "metadata": {},
   "outputs": [],
   "source": [
    "weakly_sales=data.resample('W',on='Date')['Sales'].sum()"
   ]
  },
  {
   "cell_type": "code",
   "execution_count": 70,
   "id": "fde0ee12-7072-4c5d-83e3-256ccd882535",
   "metadata": {},
   "outputs": [
    {
     "data": {
      "text/plain": [
       "Date\n",
       "2020-10-04    15045000\n",
       "2020-10-11    27002500\n",
       "2020-10-18    26640000\n",
       "2020-10-25    26815000\n",
       "2020-11-01    21807500\n",
       "2020-11-08    20865000\n",
       "2020-11-15    21172500\n",
       "2020-11-22    21112500\n",
       "2020-11-29    21477500\n",
       "2020-12-06    29622500\n",
       "2020-12-13    31525000\n",
       "2020-12-20    31655000\n",
       "2020-12-27    31770000\n",
       "2021-01-03    13792500\n",
       "Freq: W-SUN, Name: Sales, dtype: int64"
      ]
     },
     "execution_count": 70,
     "metadata": {},
     "output_type": "execute_result"
    }
   ],
   "source": [
    "weakly_sales"
   ]
  },
  {
   "cell_type": "code",
   "execution_count": 71,
   "id": "a8de2b3d-43a0-4c60-9f29-ca3a0c214f9e",
   "metadata": {},
   "outputs": [
    {
     "data": {
      "text/plain": [
       "Date\n",
       "2020-10-31    114290000\n",
       "2020-11-30     90682500\n",
       "2020-12-31    135330000\n",
       "Freq: ME, Name: Sales, dtype: int64"
      ]
     },
     "execution_count": 71,
     "metadata": {},
     "output_type": "execute_result"
    }
   ],
   "source": [
    "monthly_sales=data.resample('ME',on='Date')['Sales'].sum()\n",
    "monthly_sales"
   ]
  },
  {
   "cell_type": "code",
   "execution_count": 72,
   "id": "19db971e-caa2-44ea-b2df-8570bd28da84",
   "metadata": {},
   "outputs": [
    {
     "data": {
      "text/plain": [
       "Date\n",
       "2020-12-31    340302500\n",
       "Freq: QE-DEC, Name: Sales, dtype: int64"
      ]
     },
     "execution_count": 72,
     "metadata": {},
     "output_type": "execute_result"
    }
   ],
   "source": [
    "Quarterly_sales=data.resample('QE',on='Date')['Sales'].sum()\n",
    "Quarterly_sales"
   ]
  },
  {
   "cell_type": "markdown",
   "id": "f3cc200a-a9cf-46f6-9d9e-d4aed76cbfa4",
   "metadata": {},
   "source": [
    "# Data Visualization"
   ]
  },
  {
   "cell_type": "markdown",
   "id": "4f402baa-abb3-4fc6-a0c7-53dc80fdd1eb",
   "metadata": {},
   "source": [
    "### Box Plot for Descriptive Statistics"
   ]
  },
  {
   "cell_type": "code",
   "execution_count": 73,
   "id": "b401f360-7b85-4b04-b96f-f7f3162b39c9",
   "metadata": {},
   "outputs": [
    {
     "data": {
      "image/png": "[encoded data removed]",
      "text/plain": [
       "<Figure size 800x500 with 1 Axes>"
      ]
     },
     "metadata": {},
     "output_type": "display_data"
    }
   ],
   "source": [
    "import seaborn as sns\n",
    "import matplotlib.pyplot as plt\n",
    "\n",
    "plt.figure(figsize=(8, 5))\n",
    "sns.boxplot(x=df[\"Sales\"])\n",
    "plt.title(\"Sales Distribution - Box Plot\")\n",
    "plt.xlabel(\"Sales data\")\n",
    "plt.ylabel(\"Values\")\n",
    "plt.show()"
   ]
  },
  {
   "cell_type": "markdown",
   "id": "6107be29-8b25-472e-9dd9-48e8c8fa0404",
   "metadata": {},
   "source": [
    "### State-wise analysis for different demographic groups(kids,men,women,senior)"
   ]
  },
  {
   "cell_type": "code",
   "execution_count": 74,
   "id": "29105cfc-f65d-420f-a3ce-1eb755bbdded",
   "metadata": {},
   "outputs": [
    {
     "data": {
      "image/png": "[encoded data removed]",
      "text/plain": [
       "<Figure size 1000x600 with 1 Axes>"
      ]
     },
     "metadata": {},
     "output_type": "display_data"
    }
   ],
   "source": [
    "plt.figure(figsize=(10,6))\n",
    "\n",
    "sns.barplot(x=data['State'],y=data['Sales'])\n",
    "\n",
    "plt.show()"
   ]
  },
  {
   "cell_type": "code",
   "execution_count": 75,
   "id": "a44ddf90-b30f-4337-a312-26b804d2cb94",
   "metadata": {},
   "outputs": [
    {
     "data": {
      "image/png": "[encoded data removed]",
      "text/plain": [
       "<Figure size 1000x600 with 1 Axes>"
      ]
     },
     "metadata": {},
     "output_type": "display_data"
    }
   ],
   "source": [
    "plt.figure(figsize=(10,6))\n",
    "\n",
    "sns.barplot(x=data['Group'],y=data['Sales'])\n",
    "\n",
    "plt.show()"
   ]
  },
  {
   "cell_type": "code",
   "execution_count": 76,
   "id": "3e17e338-a3f9-44c0-b3ba-779b462499d5",
   "metadata": {},
   "outputs": [
    {
     "data": {
      "image/png": "[encoded data removed]",
      "text/plain": [
       "<Figure size 1000x600 with 1 Axes>"
      ]
     },
     "metadata": {},
     "output_type": "display_data"
    }
   ],
   "source": [
    "plt.figure(figsize=(10,6))\n",
    "\n",
    "sns.barplot(x=data['Group'],y=data['Sales'],hue='State',data=data)\n",
    "\n",
    "plt.show()"
   ]
  },
  {
   "cell_type": "markdown",
   "id": "a43c92bd-9a1b-4213-8898-d17c92c7c5ef",
   "metadata": {},
   "source": [
    "## Time of the day analysis "
   ]
  },
  {
   "cell_type": "code",
   "execution_count": 77,
   "id": "5150d299-e0fd-4fb6-a02e-2fdc5c644591",
   "metadata": {},
   "outputs": [
    {
     "data": {
      "text/html": [
       "<div>\n",
       "<style scoped>\n",
       "    .dataframe tbody tr th:only-of-type {\n",
       "        vertical-align: middle;\n",
       "    }\n",
       "\n",
       "    .dataframe tbody tr th {\n",
       "        vertical-align: top;\n",
       "    }\n",
       "\n",
       "    .dataframe thead th {\n",
       "        text-align: right;\n",
       "    }\n",
       "</style>\n",
       "<table border=\"1\" class=\"dataframe\">\n",
       "  <thead>\n",
       "    <tr style=\"text-align: right;\">\n",
       "      <th></th>\n",
       "      <th>Date</th>\n",
       "      <th>Time</th>\n",
       "      <th>State</th>\n",
       "      <th>Group</th>\n",
       "      <th>Unit</th>\n",
       "      <th>Sales</th>\n",
       "    </tr>\n",
       "  </thead>\n",
       "  <tbody>\n",
       "    <tr>\n",
       "      <th>0</th>\n",
       "      <td>2020-10-01</td>\n",
       "      <td>Morning</td>\n",
       "      <td>WA</td>\n",
       "      <td>Kids</td>\n",
       "      <td>8</td>\n",
       "      <td>20000</td>\n",
       "    </tr>\n",
       "    <tr>\n",
       "      <th>1</th>\n",
       "      <td>2020-10-01</td>\n",
       "      <td>Morning</td>\n",
       "      <td>WA</td>\n",
       "      <td>Men</td>\n",
       "      <td>8</td>\n",
       "      <td>20000</td>\n",
       "    </tr>\n",
       "    <tr>\n",
       "      <th>2</th>\n",
       "      <td>2020-10-01</td>\n",
       "      <td>Morning</td>\n",
       "      <td>WA</td>\n",
       "      <td>Women</td>\n",
       "      <td>4</td>\n",
       "      <td>10000</td>\n",
       "    </tr>\n",
       "    <tr>\n",
       "      <th>3</th>\n",
       "      <td>2020-10-01</td>\n",
       "      <td>Morning</td>\n",
       "      <td>WA</td>\n",
       "      <td>Seniors</td>\n",
       "      <td>15</td>\n",
       "      <td>37500</td>\n",
       "    </tr>\n",
       "    <tr>\n",
       "      <th>4</th>\n",
       "      <td>2020-10-01</td>\n",
       "      <td>Afternoon</td>\n",
       "      <td>WA</td>\n",
       "      <td>Kids</td>\n",
       "      <td>3</td>\n",
       "      <td>7500</td>\n",
       "    </tr>\n",
       "    <tr>\n",
       "      <th>...</th>\n",
       "      <td>...</td>\n",
       "      <td>...</td>\n",
       "      <td>...</td>\n",
       "      <td>...</td>\n",
       "      <td>...</td>\n",
       "      <td>...</td>\n",
       "    </tr>\n",
       "    <tr>\n",
       "      <th>7555</th>\n",
       "      <td>2020-12-30</td>\n",
       "      <td>Afternoon</td>\n",
       "      <td>TAS</td>\n",
       "      <td>Seniors</td>\n",
       "      <td>14</td>\n",
       "      <td>35000</td>\n",
       "    </tr>\n",
       "    <tr>\n",
       "      <th>7556</th>\n",
       "      <td>2020-12-30</td>\n",
       "      <td>Evening</td>\n",
       "      <td>TAS</td>\n",
       "      <td>Kids</td>\n",
       "      <td>15</td>\n",
       "      <td>37500</td>\n",
       "    </tr>\n",
       "    <tr>\n",
       "      <th>7557</th>\n",
       "      <td>2020-12-30</td>\n",
       "      <td>Evening</td>\n",
       "      <td>TAS</td>\n",
       "      <td>Men</td>\n",
       "      <td>15</td>\n",
       "      <td>37500</td>\n",
       "    </tr>\n",
       "    <tr>\n",
       "      <th>7558</th>\n",
       "      <td>2020-12-30</td>\n",
       "      <td>Evening</td>\n",
       "      <td>TAS</td>\n",
       "      <td>Women</td>\n",
       "      <td>11</td>\n",
       "      <td>27500</td>\n",
       "    </tr>\n",
       "    <tr>\n",
       "      <th>7559</th>\n",
       "      <td>2020-12-30</td>\n",
       "      <td>Evening</td>\n",
       "      <td>TAS</td>\n",
       "      <td>Seniors</td>\n",
       "      <td>13</td>\n",
       "      <td>32500</td>\n",
       "    </tr>\n",
       "  </tbody>\n",
       "</table>\n",
       "<p>7560 rows × 6 columns</p>\n",
       "</div>"
      ],
      "text/plain": [
       "           Date        Time State     Group  Unit  Sales\n",
       "0    2020-10-01     Morning    WA      Kids     8  20000\n",
       "1    2020-10-01     Morning    WA       Men     8  20000\n",
       "2    2020-10-01     Morning    WA     Women     4  10000\n",
       "3    2020-10-01     Morning    WA   Seniors    15  37500\n",
       "4    2020-10-01   Afternoon    WA      Kids     3   7500\n",
       "...         ...         ...   ...       ...   ...    ...\n",
       "7555 2020-12-30   Afternoon   TAS   Seniors    14  35000\n",
       "7556 2020-12-30     Evening   TAS      Kids    15  37500\n",
       "7557 2020-12-30     Evening   TAS       Men    15  37500\n",
       "7558 2020-12-30     Evening   TAS     Women    11  27500\n",
       "7559 2020-12-30     Evening   TAS   Seniors    13  32500\n",
       "\n",
       "[7560 rows x 6 columns]"
      ]
     },
     "execution_count": 77,
     "metadata": {},
     "output_type": "execute_result"
    }
   ],
   "source": [
    "data"
   ]
  },
  {
   "cell_type": "code",
   "execution_count": 78,
   "id": "ed430cdb-2dc7-4328-9308-652a4f533af2",
   "metadata": {},
   "outputs": [
    {
     "data": {
      "image/png": "[encoded data removed]",
      "text/plain": [
       "<Figure size 640x480 with 1 Axes>"
      ]
     },
     "metadata": {},
     "output_type": "display_data"
    }
   ],
   "source": [
    "data['Time'].value_counts().plot(kind='bar')\n",
    "plt.show()"
   ]
  },
  {
   "cell_type": "markdown",
   "id": "da97232a-eeb2-4cd7-8bf3-345883c1ea6f",
   "metadata": {},
   "source": [
    "## Time vs sales analysis"
   ]
  },
  {
   "cell_type": "code",
   "execution_count": 79,
   "id": "0769610d-b2d8-414a-827e-72a4cd0607d3",
   "metadata": {},
   "outputs": [
    {
     "data": {
      "image/png": "[encoded data removed]",
      "text/plain": [
       "<Figure size 1000x600 with 1 Axes>"
      ]
     },
     "metadata": {},
     "output_type": "display_data"
    }
   ],
   "source": [
    "plt.figure(figsize=(10,6))\n",
    "ax=sns.barplot(x=data['Time'],y=data['Sales'])\n",
    "for label in ax.containers:\n",
    "    ax.bar_label(label)\n",
    "plt.show()"
   ]
  },
  {
   "cell_type": "code",
   "execution_count": 80,
   "id": "03c27aae-2489-47fd-bad3-eb4c98de9991",
   "metadata": {},
   "outputs": [
    {
     "data": {
      "image/png": "[encoded data removed]",
      "text/plain": [
       "<Figure size 1000x800 with 1 Axes>"
      ]
     },
     "metadata": {},
     "output_type": "display_data"
    }
   ],
   "source": [
    "plt.figure(figsize=(10,8))\n",
    "\n",
    "sns.histplot(x=data['Sales'])\n",
    "\n",
    "plt.title('Histogram of Sales')\n",
    "\n",
    "plt.show()\n",
    "\n"
   ]
  },
  {
   "cell_type": "code",
   "execution_count": 81,
   "id": "7b2843ff-39bc-40ba-b8ed-9e32e44b2a5a",
   "metadata": {},
   "outputs": [
    {
     "name": "stderr",
     "output_type": "stream",
     "text": [
      "C:\\Users\\Tanish\\AppData\\Local\\Temp\\ipykernel_19552\\3690838909.py:2: UserWarning: \n",
      "\n",
      "`distplot` is a deprecated function and will be removed in seaborn v0.14.0.\n",
      "\n",
      "Please adapt your code to use either `displot` (a figure-level function with\n",
      "similar flexibility) or `histplot` (an axes-level function for histograms).\n",
      "\n",
      "For a guide to updating your code to use the new functions, please see\n",
      "https://gist.github.com/mwaskom/de44147ed2974457ad6372750bbe5751\n",
      "\n",
      "  sns.distplot(x=data['Sales'])\n"
     ]
    },
    {
     "data": {
      "image/png": "[encoded data removed]",
      "text/plain": [
       "<Figure size 1000x800 with 1 Axes>"
      ]
     },
     "metadata": {},
     "output_type": "display_data"
    }
   ],
   "source": [
    "plt.figure(figsize=(10,8))\n",
    "sns.distplot(x=data['Sales'])\n",
    "plt.title('Boxplot of Sales')\n",
    "plt.show()"
   ]
  },
  {
   "cell_type": "code",
   "execution_count": 82,
   "id": "a00cc208-d728-4747-9d5a-f7a3ce9dd45e",
   "metadata": {},
   "outputs": [
    {
     "data": {
      "image/png": "[encoded data removed]",
      "text/plain": [
       "<Figure size 640x480 with 1 Axes>"
      ]
     },
     "metadata": {},
     "output_type": "display_data"
    }
   ],
   "source": [
    "data.resample('ME',on='Date')['Sales'].sum().plot(kind='bar')\n",
    "\n",
    "plt.show()"
   ]
  },
  {
   "cell_type": "code",
   "execution_count": null,
   "id": "e733c7aa-dd5d-4bbc-8428-ed4355696218",
   "metadata": {},
   "outputs": [],
   "source": []
  }
 ],
 "metadata": {
  "kernelspec": {
   "display_name": "Python 3 (ipykernel)",
   "language": "python",
   "name": "python3"
  },
  "language_info": {
   "codemirror_mode": {
    "name": "ipython",
    "version": 3
   },
   "file_extension": ".py",
   "mimetype": "text/x-python",
   "name": "python",
   "nbconvert_exporter": "python",
   "pygments_lexer": "ipython3",
   "version": "3.12.7"
  }
 },
 "nbformat": 4,
 "nbformat_minor": 5
}
